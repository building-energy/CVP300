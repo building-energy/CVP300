{
 "cells": [
  {
   "cell_type": "code",
   "execution_count": 2,
   "metadata": {},
   "outputs": [],
   "source": [
    "def calculate_B(n):\n",
    "    \"Calculates B given the day number n\"\n",
    "    B = (n-1) * 360 / 365\n",
    "    return B"
   ]
  },
  {
   "cell_type": "code",
   "execution_count": 3,
   "metadata": {},
   "outputs": [],
   "source": [
    "import math\n",
    "def calculate_E(B):\n",
    "    E = 229.2 * (0.000075 \n",
    "                 + 0.001868 * math.cos( math.radians(B))\n",
    "                 - 0.032077 * math.sin( math.radians(B))\n",
    "                 - 0.014615 * math.cos( math.radians(2*B))\n",
    "                 - 0.04089 * math.sin ( math.radians(2*B))\n",
    "                )\n",
    "    return E"
   ]
  },
  {
   "cell_type": "code",
   "execution_count": 13,
   "metadata": {},
   "outputs": [],
   "source": [
    "def calculate_solar_time(standard_time,L_st,L_loc,E):\n",
    "    \"\"\"Calculates the solar time\n",
    "    \n",
    "    Arguments:\n",
    "         - standard_time (pd.Timestamp): the local time as a pandas Timestamp\n",
    "         - L_st (float): the standard meridian for thelocal time zone\n",
    "         - L_loc (float): the longitude of the location in question\n",
    "         - E (float): the equation of time result (in minutes)\n",
    "    \"\"\"\n",
    "    \n",
    "    time_difference_minutes = 4 * (L_st - L_loc) + E\n",
    "    \n",
    "    solar_time = standard_time + pd.Timedelta(minutes=time_difference_minutes)\n",
    "    \n",
    "    return solar_time"
   ]
  },
  {
   "cell_type": "markdown",
   "metadata": {},
   "source": [
    "Example 1.5.1"
   ]
  },
  {
   "cell_type": "code",
   "execution_count": 10,
   "metadata": {},
   "outputs": [],
   "source": [
    "import pandas as pd\n",
    "n=34\n",
    "standard_time=pd.Timestamp(2020,2,3,10,30)\n",
    "L_st=90\n",
    "L_loc=89.4"
   ]
  },
  {
   "cell_type": "code",
   "execution_count": 14,
   "metadata": {},
   "outputs": [
    {
     "data": {
      "text/plain": [
       "Timestamp('2020-02-03 10:18:54.692584')"
      ]
     },
     "execution_count": 14,
     "metadata": {},
     "output_type": "execute_result"
    }
   ],
   "source": [
    "B=calculate_B(n)\n",
    "E=calculate_E(B)\n",
    "solar_time=calculate_solar_time(standard_time,L_st,L_loc,E)\n",
    "solar_time"
   ]
  },
  {
   "cell_type": "code",
   "execution_count": 15,
   "metadata": {},
   "outputs": [
    {
     "data": {
      "text/plain": [
       "Timestamp('2020-02-03 10:30:00')"
      ]
     },
     "execution_count": 15,
     "metadata": {},
     "output_type": "execute_result"
    }
   ],
   "source": [
    "pd.Timestamp(2020,2,3,10,30)"
   ]
  }
 ],
 "metadata": {
  "kernelspec": {
   "display_name": "Python 3",
   "language": "python",
   "name": "python3"
  },
  "language_info": {
   "codemirror_mode": {
    "name": "ipython",
    "version": 3
   },
   "file_extension": ".py",
   "mimetype": "text/x-python",
   "name": "python",
   "nbconvert_exporter": "python",
   "pygments_lexer": "ipython3",
   "version": "3.6.5"
  }
 },
 "nbformat": 4,
 "nbformat_minor": 2
}
